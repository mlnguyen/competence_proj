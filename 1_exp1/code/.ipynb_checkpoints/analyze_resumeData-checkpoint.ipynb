{
 "cells": [
  {
   "cell_type": "code",
   "execution_count": null,
   "metadata": {
    "collapsed": true
   },
   "outputs": [],
   "source": [
    "%matplotlib inline\n",
    "import json\n",
    "from scipy import stats\n",
    "import matplotlib.pyplot as plt\n",
    "import numpy as np\n",
    "import pandas as pd"
   ]
  },
  {
   "cell_type": "markdown",
   "metadata": {},
   "source": [
    "# 1. Get yo data\n",
    "\n",
    "First thing we need to do is get the data in a useful format. I was going to do this for you, but this step is\n",
    "actually a huge part of data analysis.\n",
    "\n",
    "The dataformat we want is called a \"longform\" format. Basically every response is in a separate row, and so each\n",
    "subject will have 24 rows (1/trial).  Here's a description of what longform format looks like: \n",
    "https://www.theanalysisfactor.com/wide-and-long-data/\n",
    "\n",
    "In our case, we're going to store our data in a pandas dataframe, which will make it easier for us to later \"slice\"\n",
    "the data (e.g. get all the responses to \"incomp\" face trials). In this dataframe, each row will be 1 subject's trial.\n",
    "We have 128 subject x 24 trials each, so the df will have 3072 rows. The columns of the dataframe will be all the\n",
    "information about the trial: trial number, subject id, profile name, photo name, resume type (high/med/low), \n",
    "photo type (comp/incomp), response time, hire rating, and salary. Some of this info is already in the data json, but\n",
    "some of it you'll have to extract (e.g. go from \"incomp32.jpg\" to \"incomp\")\n",
    "\n",
    "Quick tutorial on dataframes: https://www.datacamp.com/community/tutorials/pandas-tutorial-dataframe-python\n",
    "My notes on dataframes: https://www.evernote.com/l/AH6Xe1OcaY1N24AxIQCF6Eps5kL_gU52dEU\n",
    "If you look in the data directory, you'll see a sample what this dataframe should look like in a example_longform.csv\n",
    "\n",
    "Here are some code snippets that will be helpful in making a dataframe:\n",
    "-Create dataframe from a dictionary\n",
    "    df = pd.DataFrame.from_dict(mydict)\n",
    "-Combine multiple dataframes\n",
    "    df_combined = pd.concat([df1, df2, df3], ignore_index=True))\n",
    "-Look at your dataframe\n",
    "    df.head(nFirstRows)\n",
    "    df.tail(nLastRows\n",
    "-Index by boolean i.e. get all the rows that meet a certain condition, competent photos\n",
    "    df_var = df[df['colName'] == 'var'] \n",
    "-Get column\n",
    "    col = df['colName']\n",
    "-Index by row/col\n",
    "    row = df.loc[[rowName]]\n",
    "    cell = df.loc[[rowName], [colName]]\n",
    "-Save to csv\n",
    "    df.to_csv('filename.csv')\n",
    "\n",
    "Code outline:\n",
    "1. read in json\n",
    "2. Convert to longform dataframe (you might do this subject by subject and then concat the result dfs)\n",
    "3. Write to csv"
   ]
  },
  {
   "cell_type": "code",
   "execution_count": null,
   "metadata": {
    "collapsed": true
   },
   "outputs": [],
   "source": [
    "# code (don't forget to add comments!)"
   ]
  },
  {
   "cell_type": "code",
   "execution_count": null,
   "metadata": {
    "collapsed": true
   },
   "outputs": [],
   "source": []
  },
  {
   "cell_type": "markdown",
   "metadata": {},
   "source": [
    "# 2. Look at data (sanity check)\n",
    "\n",
    "Okay, now we have our data in a reasonable shape. The next thing we want to do is look at our data and get a feeling\n",
    "for what it looks like. In more complicated cases, this might involve look for missing values, bad subjects, corrupted\n",
    "data, etc, but fortunately we don't have that problem.\n",
    "\n",
    "### Hire/Salary data\n",
    "1. Get descriptive stats: mean, median, std, min/max for each condition (high/med/low resume, competent/incompetent, and then all permutations of above - high-competent, high-incompetent, etc). Put this in a table or something easy to read.\n",
    "2. Plot hiring results by condition using a boxplot (example: https://matplotlib.org/gallery/statistics/boxplot_demo.html). This lets us look at the mean and variance of each condition and search for outliers or other weirdness. Are there any skewed conditions (non normally distributed)? aRe there any weird outliers? Make seperate box plots for hire ratings and for salary.\n",
    "3. Do same plot as above, but as bar plot with standard deviation bars. This will show the same thing, but for presentation pruposes, people usually use bar plots rather than box plots (simpler?) (example: https://matplotlib.org/gallery/units/bar_unit_demo.html, documentation:https://matplotlib.org/api/_as_gen/matplotlib.pyplot.bar.html)\n",
    "4. Break down results by each profile: average hire rating for profile1 with competent photo and then for incompetent photo. You should have a pair of grouped bars for each profile. Include error bars. This lets us get a sense of whether we see these results in all the profiles, or if there are a couple profiles in particular that causing this effect. Make separate plots for hire ratings and for salary\n",
    "\n",
    "### Reaction times\n",
    "1. Check reaction times. On average, how long does each subject spend on each trial? Make a histogram of these responses\n",
    "2. Are there any subjects who spend on average <10secs on each trial? Who are they? This might suggest that they didn't really do the task and just zipped through the experiment instead. If that's the case, we might want to set a criteria for removing subjects who are ridiculously fast out of the analysis. "
   ]
  },
  {
   "cell_type": "code",
   "execution_count": null,
   "metadata": {
    "collapsed": true
   },
   "outputs": [],
   "source": [
    "#code"
   ]
  },
  {
   "cell_type": "code",
   "execution_count": null,
   "metadata": {
    "collapsed": true
   },
   "outputs": [],
   "source": []
  },
  {
   "cell_type": "markdown",
   "metadata": {},
   "source": [
    "# 3. Inferential stats\n",
    "\n",
    "### Repeated measures ANOVA\n",
    "The main analysis will be a repeated-measures ANOVA. Right now, I couldn't find a good stats package for python that allows us to do this, so instead we will use R for running the anova. Look at the R code in the code directory\n",
    "\n",
    "### Planned contrasts\n",
    "We also want to do some planned contrast though, which we can do in python. A planned contrast is a comparison we make btween certain conditions (e.g. highquality/comp vs highquality/incomp) in the experiment and that we DECIDE ON AHEAD OF TIME. This is really important!! We want to decide on a small number of hypothesis driven contrasts apriori (before looking at our data) so that we don't basically run every single possible comparison and run into multiple comparisons problems. \n",
    "\n",
    "The reason we want to do planned contrasts is to dig further into what the ANOVA results. The ANOVA for example migth tell us there's an interactionb etween resume quality and competence photo. It doesn't tell us though where this interaction is occuring. To do that, we want to do planned comparisons.\n",
    "\n",
    "We have 3 planned comparisons:\n",
    "1. HighQuality/Competent vs HighQuality/Incomp\n",
    "2. AvgQuality/Competent vs AvgQuality/incomp\n",
    "3. LowQuality/Comp vs LowQuality/Incomp\n",
    "\n",
    "In each comparison, what are we comparing? How would we test for differences? Once you decide on a test, you can look in the scipy stats documentation to figure out how to run it.\n",
    "\n",
    "### Correlation\n",
    "We also have a nice situation where each profile was presented with a comp/incomp face. From our preratings, we know the difference in perceived competence between the two faces. Is the size of the difference between comp/incomp face related to the difference in hire rating and/or salary? How could we test that? (Again, look at scipy.stats documentation)"
   ]
  },
  {
   "cell_type": "code",
   "execution_count": null,
   "metadata": {
    "collapsed": true
   },
   "outputs": [],
   "source": [
    "#code"
   ]
  }
 ],
 "metadata": {
  "kernelspec": {
   "display_name": "Python [Root]",
   "language": "python",
   "name": "Python [Root]"
  },
  "language_info": {
   "codemirror_mode": {
    "name": "ipython",
    "version": 3
   },
   "file_extension": ".py",
   "mimetype": "text/x-python",
   "name": "python",
   "nbconvert_exporter": "python",
   "pygments_lexer": "ipython3",
   "version": "3.5.4"
  }
 },
 "nbformat": 4,
 "nbformat_minor": 2
}
